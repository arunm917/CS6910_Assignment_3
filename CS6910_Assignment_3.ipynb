{
  "nbformat": 4,
  "nbformat_minor": 0,
  "metadata": {
    "colab": {
      "provenance": [],
      "authorship_tag": "ABX9TyMXjTK/h4rSFgiOf0aj8R43",
      "include_colab_link": true
    },
    "kernelspec": {
      "name": "python3",
      "display_name": "Python 3"
    },
    "language_info": {
      "name": "python"
    }
  },
  "cells": [
    {
      "cell_type": "markdown",
      "metadata": {
        "id": "view-in-github",
        "colab_type": "text"
      },
      "source": [
        "<a href=\"https://colab.research.google.com/github/arunm917/CS6910_Assignment_3/blob/main/CS6910_Assignment_3.ipynb\" target=\"_parent\"><img src=\"https://colab.research.google.com/assets/colab-badge.svg\" alt=\"Open In Colab\"/></a>"
      ]
    },
    {
      "cell_type": "code",
      "execution_count": 2,
      "metadata": {
        "id": "gkx75o8qZtGB"
      },
      "outputs": [],
      "source": [
        "import csv\n",
        "import gdown\n",
        "import pandas as pd"
      ]
    },
    {
      "cell_type": "code",
      "source": [
        "# downloading file from gdrive\n",
        "output = 'tam_train'\n",
        "file_id = '1pdJVD8P71fpqGRnvFfOp_6TbVft9NlnH' # Google drive ID\n",
        "#Download the file\n",
        "gdown.download('https://drive.google.com/uc?id=' + file_id, output, quiet=False)\n",
        "print('DONE.')"
      ],
      "metadata": {
        "id": "bHm92AkybYZb",
        "colab": {
          "base_uri": "https://localhost:8080/"
        },
        "outputId": "8a0fd740-8eda-439b-f8e4-1c63b236181e"
      },
      "execution_count": 3,
      "outputs": [
        {
          "output_type": "stream",
          "name": "stderr",
          "text": [
            "Downloading...\n",
            "From: https://drive.google.com/uc?id=1pdJVD8P71fpqGRnvFfOp_6TbVft9NlnH\n",
            "To: /content/tam_train\n",
            "100%|██████████| 2.69M/2.69M [00:00<00:00, 61.9MB/s]\n"
          ]
        },
        {
          "output_type": "stream",
          "name": "stdout",
          "text": [
            "DONE.\n"
          ]
        }
      ]
    },
    {
      "cell_type": "code",
      "source": [
        "train_data_df = pd.read_csv('tam_train')"
      ],
      "metadata": {
        "id": "yKNN0xMhaI4L"
      },
      "execution_count": 5,
      "outputs": []
    },
    {
      "cell_type": "code",
      "source": [
        "train_data_df.columns = ['English','Tamil']"
      ],
      "metadata": {
        "id": "wiKR6-yZ4pKX"
      },
      "execution_count": 7,
      "outputs": []
    },
    {
      "cell_type": "code",
      "source": [
        "train_data_df"
      ],
      "metadata": {
        "colab": {
          "base_uri": "https://localhost:8080/",
          "height": 423
        },
        "id": "UBnZ9WfT6erP",
        "outputId": "2b4b7b21-3d01-4bc0-b540-c4212a2db33b"
      },
      "execution_count": 8,
      "outputs": [
        {
          "output_type": "execute_result",
          "data": {
            "text/plain": [
              "                      English                Tamil\n",
              "0                 menmaithaan           மென்மைதான்\n",
              "1                   avarantri              அவரன்றி\n",
              "2                 mudiyarathu             முடியறது\n",
              "3             aadaiyanigalaal          ஆடையணிகளால்\n",
              "4      muzhumaiyaakkugindrana   முழுமையாக்குகின்றன\n",
              "...                       ...                  ...\n",
              "51194        melakkannicherry     மேலக்கன்னிச்சேரி\n",
              "51195    thattippaarththaalum  தட்டிப்பார்த்தாலும்\n",
              "51196              meribaavin           மெரிபாவின்\n",
              "51197                 janmath               ஜன்மத்\n",
              "51198      nadikarkalukkullum  நடிகர்களுக்குள்ளும்\n",
              "\n",
              "[51199 rows x 2 columns]"
            ],
            "text/html": [
              "\n",
              "  <div id=\"df-74756ccb-1649-4462-92e3-ed152f2067cf\">\n",
              "    <div class=\"colab-df-container\">\n",
              "      <div>\n",
              "<style scoped>\n",
              "    .dataframe tbody tr th:only-of-type {\n",
              "        vertical-align: middle;\n",
              "    }\n",
              "\n",
              "    .dataframe tbody tr th {\n",
              "        vertical-align: top;\n",
              "    }\n",
              "\n",
              "    .dataframe thead th {\n",
              "        text-align: right;\n",
              "    }\n",
              "</style>\n",
              "<table border=\"1\" class=\"dataframe\">\n",
              "  <thead>\n",
              "    <tr style=\"text-align: right;\">\n",
              "      <th></th>\n",
              "      <th>English</th>\n",
              "      <th>Tamil</th>\n",
              "    </tr>\n",
              "  </thead>\n",
              "  <tbody>\n",
              "    <tr>\n",
              "      <th>0</th>\n",
              "      <td>menmaithaan</td>\n",
              "      <td>மென்மைதான்</td>\n",
              "    </tr>\n",
              "    <tr>\n",
              "      <th>1</th>\n",
              "      <td>avarantri</td>\n",
              "      <td>அவரன்றி</td>\n",
              "    </tr>\n",
              "    <tr>\n",
              "      <th>2</th>\n",
              "      <td>mudiyarathu</td>\n",
              "      <td>முடியறது</td>\n",
              "    </tr>\n",
              "    <tr>\n",
              "      <th>3</th>\n",
              "      <td>aadaiyanigalaal</td>\n",
              "      <td>ஆடையணிகளால்</td>\n",
              "    </tr>\n",
              "    <tr>\n",
              "      <th>4</th>\n",
              "      <td>muzhumaiyaakkugindrana</td>\n",
              "      <td>முழுமையாக்குகின்றன</td>\n",
              "    </tr>\n",
              "    <tr>\n",
              "      <th>...</th>\n",
              "      <td>...</td>\n",
              "      <td>...</td>\n",
              "    </tr>\n",
              "    <tr>\n",
              "      <th>51194</th>\n",
              "      <td>melakkannicherry</td>\n",
              "      <td>மேலக்கன்னிச்சேரி</td>\n",
              "    </tr>\n",
              "    <tr>\n",
              "      <th>51195</th>\n",
              "      <td>thattippaarththaalum</td>\n",
              "      <td>தட்டிப்பார்த்தாலும்</td>\n",
              "    </tr>\n",
              "    <tr>\n",
              "      <th>51196</th>\n",
              "      <td>meribaavin</td>\n",
              "      <td>மெரிபாவின்</td>\n",
              "    </tr>\n",
              "    <tr>\n",
              "      <th>51197</th>\n",
              "      <td>janmath</td>\n",
              "      <td>ஜன்மத்</td>\n",
              "    </tr>\n",
              "    <tr>\n",
              "      <th>51198</th>\n",
              "      <td>nadikarkalukkullum</td>\n",
              "      <td>நடிகர்களுக்குள்ளும்</td>\n",
              "    </tr>\n",
              "  </tbody>\n",
              "</table>\n",
              "<p>51199 rows × 2 columns</p>\n",
              "</div>\n",
              "      <button class=\"colab-df-convert\" onclick=\"convertToInteractive('df-74756ccb-1649-4462-92e3-ed152f2067cf')\"\n",
              "              title=\"Convert this dataframe to an interactive table.\"\n",
              "              style=\"display:none;\">\n",
              "        \n",
              "  <svg xmlns=\"http://www.w3.org/2000/svg\" height=\"24px\"viewBox=\"0 0 24 24\"\n",
              "       width=\"24px\">\n",
              "    <path d=\"M0 0h24v24H0V0z\" fill=\"none\"/>\n",
              "    <path d=\"M18.56 5.44l.94 2.06.94-2.06 2.06-.94-2.06-.94-.94-2.06-.94 2.06-2.06.94zm-11 1L8.5 8.5l.94-2.06 2.06-.94-2.06-.94L8.5 2.5l-.94 2.06-2.06.94zm10 10l.94 2.06.94-2.06 2.06-.94-2.06-.94-.94-2.06-.94 2.06-2.06.94z\"/><path d=\"M17.41 7.96l-1.37-1.37c-.4-.4-.92-.59-1.43-.59-.52 0-1.04.2-1.43.59L10.3 9.45l-7.72 7.72c-.78.78-.78 2.05 0 2.83L4 21.41c.39.39.9.59 1.41.59.51 0 1.02-.2 1.41-.59l7.78-7.78 2.81-2.81c.8-.78.8-2.07 0-2.86zM5.41 20L4 18.59l7.72-7.72 1.47 1.35L5.41 20z\"/>\n",
              "  </svg>\n",
              "      </button>\n",
              "      \n",
              "  <style>\n",
              "    .colab-df-container {\n",
              "      display:flex;\n",
              "      flex-wrap:wrap;\n",
              "      gap: 12px;\n",
              "    }\n",
              "\n",
              "    .colab-df-convert {\n",
              "      background-color: #E8F0FE;\n",
              "      border: none;\n",
              "      border-radius: 50%;\n",
              "      cursor: pointer;\n",
              "      display: none;\n",
              "      fill: #1967D2;\n",
              "      height: 32px;\n",
              "      padding: 0 0 0 0;\n",
              "      width: 32px;\n",
              "    }\n",
              "\n",
              "    .colab-df-convert:hover {\n",
              "      background-color: #E2EBFA;\n",
              "      box-shadow: 0px 1px 2px rgba(60, 64, 67, 0.3), 0px 1px 3px 1px rgba(60, 64, 67, 0.15);\n",
              "      fill: #174EA6;\n",
              "    }\n",
              "\n",
              "    [theme=dark] .colab-df-convert {\n",
              "      background-color: #3B4455;\n",
              "      fill: #D2E3FC;\n",
              "    }\n",
              "\n",
              "    [theme=dark] .colab-df-convert:hover {\n",
              "      background-color: #434B5C;\n",
              "      box-shadow: 0px 1px 3px 1px rgba(0, 0, 0, 0.15);\n",
              "      filter: drop-shadow(0px 1px 2px rgba(0, 0, 0, 0.3));\n",
              "      fill: #FFFFFF;\n",
              "    }\n",
              "  </style>\n",
              "\n",
              "      <script>\n",
              "        const buttonEl =\n",
              "          document.querySelector('#df-74756ccb-1649-4462-92e3-ed152f2067cf button.colab-df-convert');\n",
              "        buttonEl.style.display =\n",
              "          google.colab.kernel.accessAllowed ? 'block' : 'none';\n",
              "\n",
              "        async function convertToInteractive(key) {\n",
              "          const element = document.querySelector('#df-74756ccb-1649-4462-92e3-ed152f2067cf');\n",
              "          const dataTable =\n",
              "            await google.colab.kernel.invokeFunction('convertToInteractive',\n",
              "                                                     [key], {});\n",
              "          if (!dataTable) return;\n",
              "\n",
              "          const docLinkHtml = 'Like what you see? Visit the ' +\n",
              "            '<a target=\"_blank\" href=https://colab.research.google.com/notebooks/data_table.ipynb>data table notebook</a>'\n",
              "            + ' to learn more about interactive tables.';\n",
              "          element.innerHTML = '';\n",
              "          dataTable['output_type'] = 'display_data';\n",
              "          await google.colab.output.renderOutput(dataTable, element);\n",
              "          const docLink = document.createElement('div');\n",
              "          docLink.innerHTML = docLinkHtml;\n",
              "          element.appendChild(docLink);\n",
              "        }\n",
              "      </script>\n",
              "    </div>\n",
              "  </div>\n",
              "  "
            ]
          },
          "metadata": {},
          "execution_count": 8
        }
      ]
    },
    {
      "cell_type": "code",
      "source": [
        "[*train_data_df.loc[0, 'Tamil']]"
      ],
      "metadata": {
        "colab": {
          "base_uri": "https://localhost:8080/"
        },
        "id": "arMJtuPa_UQy",
        "outputId": "a7089224-5f76-43fe-fc94-1282b91ea337"
      },
      "execution_count": 20,
      "outputs": [
        {
          "output_type": "execute_result",
          "data": {
            "text/plain": [
              "['ம', 'ெ', 'ன', '்', 'ம', 'ை', 'த', 'ா', 'ன', '்']"
            ]
          },
          "metadata": {},
          "execution_count": 20
        }
      ]
    },
    {
      "cell_type": "code",
      "source": [
        "len(train_data_df['English'])"
      ],
      "metadata": {
        "colab": {
          "base_uri": "https://localhost:8080/"
        },
        "id": "v39_0L-pLNIu",
        "outputId": "9a3d09b8-8132-4394-e0ce-086358201260"
      },
      "execution_count": 21,
      "outputs": [
        {
          "output_type": "execute_result",
          "data": {
            "text/plain": [
              "51199"
            ]
          },
          "metadata": {},
          "execution_count": 21
        }
      ]
    },
    {
      "cell_type": "code",
      "source": [
        "# Creating vocabulary\n",
        "\n",
        "vocabulary = []\n",
        "for i in range(len(train_data_df['English'])):\n",
        "  char = [*train_data_df.loc[i, 'English']]\n",
        "  vocabulary.extend(char)\n",
        "\n",
        "for i in range(len(train_data_df['Tamil'])):\n",
        "  char = [*train_data_df.loc[i, 'Tamil']]\n",
        "  vocabulary.extend(char)\n",
        "vocabulary = set(vocabulary)\n",
        "print(len(vocabulary))"
      ],
      "metadata": {
        "colab": {
          "base_uri": "https://localhost:8080/"
        },
        "id": "oRuAnljKTPk9",
        "outputId": "31a56b2c-cf8f-44b7-d819-b740c08d3de7"
      },
      "execution_count": 63,
      "outputs": [
        {
          "output_type": "stream",
          "name": "stdout",
          "text": [
            "72\n"
          ]
        }
      ]
    },
    {
      "cell_type": "code",
      "source": [
        "print(vocabulary)"
      ],
      "metadata": {
        "colab": {
          "base_uri": "https://localhost:8080/"
        },
        "id": "YlhMckL2b1x0",
        "outputId": "c748918a-c77e-47a7-8c23-454dfebb28e0"
      },
      "execution_count": 64,
      "outputs": [
        {
          "output_type": "stream",
          "name": "stdout",
          "text": [
            "{'n', 'ஒ', 'h', 'z', 'ோ', 'v', 'வ', 'ச', 'ந', 'ஜ', 'ய', 'u', 'ன', 'a', 'f', 'y', 'r', 'p', 'w', 'ஆ', 't', 'k', 'இ', 'e', 'g', 'ஷ', 'c', 'ஞ', 'ஊ', 'ட', 'b', 'ஓ', 'ே', 'i', 'ம', 'ர', 'ஹ', 'த', 'd', 'ு', 'l', 'o', 'ா', 'ற', 'ண', 'ல', 'எ', 'ஃ', 'ி', 'ௌ', 'x', 'ை', 'j', 'அ', 'ூ', 's', 'ீ', 'm', 'ள', 'ஸ', 'ஏ', 'க', 'ொ', 'ெ', 'ழ', 'உ', 'q', '்', 'ஐ', 'ஈ', 'ங', 'ப'}\n"
          ]
        }
      ]
    },
    {
      "cell_type": "code",
      "source": [
        "# Indexing\n",
        "\n",
        "char_index = {value: index for index, value in enumerate(vocabulary)}\n",
        "print(char_index)"
      ],
      "metadata": {
        "colab": {
          "base_uri": "https://localhost:8080/"
        },
        "id": "UB3ZXOTcZD5s",
        "outputId": "4b1ad5de-d869-407a-f1da-80cc4b512cd7"
      },
      "execution_count": 65,
      "outputs": [
        {
          "output_type": "stream",
          "name": "stdout",
          "text": [
            "{'n': 0, 'ஒ': 1, 'h': 2, 'z': 3, 'ோ': 4, 'v': 5, 'வ': 6, 'ச': 7, 'ந': 8, 'ஜ': 9, 'ய': 10, 'u': 11, 'ன': 12, 'a': 13, 'f': 14, 'y': 15, 'r': 16, 'p': 17, 'w': 18, 'ஆ': 19, 't': 20, 'k': 21, 'இ': 22, 'e': 23, 'g': 24, 'ஷ': 25, 'c': 26, 'ஞ': 27, 'ஊ': 28, 'ட': 29, 'b': 30, 'ஓ': 31, 'ே': 32, 'i': 33, 'ம': 34, 'ர': 35, 'ஹ': 36, 'த': 37, 'd': 38, 'ு': 39, 'l': 40, 'o': 41, 'ா': 42, 'ற': 43, 'ண': 44, 'ல': 45, 'எ': 46, 'ஃ': 47, 'ி': 48, 'ௌ': 49, 'x': 50, 'ை': 51, 'j': 52, 'அ': 53, 'ூ': 54, 's': 55, 'ீ': 56, 'm': 57, 'ள': 58, 'ஸ': 59, 'ஏ': 60, 'க': 61, 'ொ': 62, 'ெ': 63, 'ழ': 64, 'உ': 65, 'q': 66, '்': 67, 'ஐ': 68, 'ஈ': 69, 'ங': 70, 'ப': 71}\n"
          ]
        }
      ]
    },
    {
      "cell_type": "code",
      "source": [],
      "metadata": {
        "id": "z6dXWhibcIkT"
      },
      "execution_count": null,
      "outputs": []
    }
  ]
}