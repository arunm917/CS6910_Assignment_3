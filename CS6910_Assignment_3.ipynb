{
  "nbformat": 4,
  "nbformat_minor": 0,
  "metadata": {
    "colab": {
      "provenance": [],
      "authorship_tag": "ABX9TyPvHRgboTQry9y+kvCSg01G",
      "include_colab_link": true
    },
    "kernelspec": {
      "name": "python3",
      "display_name": "Python 3"
    },
    "language_info": {
      "name": "python"
    }
  },
  "cells": [
    {
      "cell_type": "markdown",
      "metadata": {
        "id": "view-in-github",
        "colab_type": "text"
      },
      "source": [
        "<a href=\"https://colab.research.google.com/github/arunm917/CS6910_Assignment_3/blob/main/CS6910_Assignment_3.ipynb\" target=\"_parent\"><img src=\"https://colab.research.google.com/assets/colab-badge.svg\" alt=\"Open In Colab\"/></a>"
      ]
    },
    {
      "cell_type": "code",
      "execution_count": 1,
      "metadata": {
        "id": "gkx75o8qZtGB"
      },
      "outputs": [],
      "source": [
        "import csv\n",
        "import gdown\n",
        "import pandas as pd\n",
        "import torch"
      ]
    },
    {
      "cell_type": "code",
      "source": [
        "# downloading file from gdrive\n",
        "output = 'tam_train'\n",
        "file_id = '1pdJVD8P71fpqGRnvFfOp_6TbVft9NlnH' # Google drive ID\n",
        "#Download the file\n",
        "gdown.download('https://drive.google.com/uc?id=' + file_id, output, quiet=False)\n",
        "print('DONE.')"
      ],
      "metadata": {
        "id": "bHm92AkybYZb",
        "colab": {
          "base_uri": "https://localhost:8080/"
        },
        "outputId": "d3328d93-9780-4334-d434-60abeb216d99"
      },
      "execution_count": 2,
      "outputs": [
        {
          "output_type": "stream",
          "name": "stderr",
          "text": [
            "Downloading...\n",
            "From: https://drive.google.com/uc?id=1pdJVD8P71fpqGRnvFfOp_6TbVft9NlnH\n",
            "To: /content/tam_train\n",
            "100%|██████████| 2.69M/2.69M [00:00<00:00, 162MB/s]"
          ]
        },
        {
          "output_type": "stream",
          "name": "stdout",
          "text": [
            "DONE.\n"
          ]
        },
        {
          "output_type": "stream",
          "name": "stderr",
          "text": [
            "\n"
          ]
        }
      ]
    },
    {
      "cell_type": "code",
      "source": [
        "train_data_df = pd.read_csv('tam_train')"
      ],
      "metadata": {
        "id": "yKNN0xMhaI4L"
      },
      "execution_count": 3,
      "outputs": []
    },
    {
      "cell_type": "code",
      "source": [
        "train_data_df.columns = ['English','Tamil']"
      ],
      "metadata": {
        "id": "wiKR6-yZ4pKX"
      },
      "execution_count": 4,
      "outputs": []
    },
    {
      "cell_type": "code",
      "source": [
        "[*train_data_df.loc[0, 'Tamil']]"
      ],
      "metadata": {
        "colab": {
          "base_uri": "https://localhost:8080/"
        },
        "id": "arMJtuPa_UQy",
        "outputId": "a7089224-5f76-43fe-fc94-1282b91ea337"
      },
      "execution_count": null,
      "outputs": [
        {
          "output_type": "execute_result",
          "data": {
            "text/plain": [
              "['ம', 'ெ', 'ன', '்', 'ம', 'ை', 'த', 'ா', 'ன', '்']"
            ]
          },
          "metadata": {},
          "execution_count": 20
        }
      ]
    },
    {
      "cell_type": "code",
      "source": [
        "len(train_data_df['English'])"
      ],
      "metadata": {
        "colab": {
          "base_uri": "https://localhost:8080/"
        },
        "id": "v39_0L-pLNIu",
        "outputId": "a5d2f3ed-e8c8-44b3-ff4c-cbff62c317eb"
      },
      "execution_count": 5,
      "outputs": [
        {
          "output_type": "execute_result",
          "data": {
            "text/plain": [
              "51199"
            ]
          },
          "metadata": {},
          "execution_count": 5
        }
      ]
    },
    {
      "cell_type": "code",
      "source": [
        "# Creating vocabulary\n",
        "\n",
        "char_list = []\n",
        "for i in range(len(train_data_df['English'])):\n",
        "  char = [*train_data_df.loc[i, 'English']]\n",
        "  char_list.extend(char)\n",
        "\n",
        "for i in range(len(train_data_df['Tamil'])):\n",
        "  char = [*train_data_df.loc[i, 'Tamil']]\n",
        "  char_list.extend(char)\n",
        "# vocabulary = set(vocabulary)\n",
        "print(len(char_list))"
      ],
      "metadata": {
        "colab": {
          "base_uri": "https://localhost:8080/"
        },
        "id": "oRuAnljKTPk9",
        "outputId": "b2694f32-321e-4dff-d8e0-866cd4b88277"
      },
      "execution_count": 6,
      "outputs": [
        {
          "output_type": "stream",
          "name": "stdout",
          "text": [
            "1343101\n"
          ]
        }
      ]
    },
    {
      "cell_type": "code",
      "source": [
        "# Indexing\n",
        "\n",
        "SOS_token = '<SOS>'\n",
        "EOS_token = '<EOS>'\n",
        "\n",
        "vocabulary = list(set(char_list))\n",
        "vocabulary = [SOS_token] + vocabulary + [EOS_token]"
      ],
      "metadata": {
        "id": "UB3ZXOTcZD5s"
      },
      "execution_count": 7,
      "outputs": []
    },
    {
      "cell_type": "code",
      "source": [
        "# vocabulary = []\n",
        "# for item in char_list:\n",
        "#     if item not in char_list:\n",
        "#         vocabulary.append(item)"
      ],
      "metadata": {
        "id": "SKhkVQUPcx6q"
      },
      "execution_count": null,
      "outputs": []
    },
    {
      "cell_type": "code",
      "source": [
        "print(len(vocabulary))\n",
        "print(vocabulary)"
      ],
      "metadata": {
        "colab": {
          "base_uri": "https://localhost:8080/"
        },
        "id": "2dczXQkPcS0b",
        "outputId": "d6b49022-ddae-4741-b155-db28322bd12d"
      },
      "execution_count": 8,
      "outputs": [
        {
          "output_type": "stream",
          "name": "stdout",
          "text": [
            "74\n",
            "['<SOS>', 'q', 't', 'l', 'எ', 'o', 'h', '்', 'ள', 'ஸ', 'ீ', 'ன', 'ூ', 'க', 'ச', 'ப', 'e', 'y', 'ஓ', 'ஐ', 'z', 'd', 'm', 'f', 'ஈ', 'ு', 'u', 'இ', 'அ', 'ஒ', 'உ', 'ல', 'c', 'j', 'ை', 'வ', 'b', 'k', 'ர', 'ங', 'ற', 'r', 'a', 'ஃ', 'ெ', 'ஊ', 'ஷ', 'i', 'ோ', 'g', 'ே', 'ந', 'ஹ', 'p', 'x', 'ஏ', 'ஞ', 'ழ', 'ௌ', 'w', 'ொ', 'ய', 'ம', 'ட', 'n', 'ஆ', 'ண', 'v', 'த', 'ி', 's', 'ஜ', 'ா', '<EOS>']\n"
          ]
        }
      ]
    },
    {
      "cell_type": "code",
      "source": [
        "char_index = {value: index for index, value in enumerate(vocabulary)}\n",
        "num_list = [char_index[char] for char in vocabulary]\n",
        "print(char_index)\n",
        "print(num_list)"
      ],
      "metadata": {
        "colab": {
          "base_uri": "https://localhost:8080/"
        },
        "id": "O8vdEmMsbw6U",
        "outputId": "28120c17-1ce2-48bb-d41b-77d8dfa869d8"
      },
      "execution_count": 9,
      "outputs": [
        {
          "output_type": "stream",
          "name": "stdout",
          "text": [
            "{'<SOS>': 0, 'q': 1, 't': 2, 'l': 3, 'எ': 4, 'o': 5, 'h': 6, '்': 7, 'ள': 8, 'ஸ': 9, 'ீ': 10, 'ன': 11, 'ூ': 12, 'க': 13, 'ச': 14, 'ப': 15, 'e': 16, 'y': 17, 'ஓ': 18, 'ஐ': 19, 'z': 20, 'd': 21, 'm': 22, 'f': 23, 'ஈ': 24, 'ு': 25, 'u': 26, 'இ': 27, 'அ': 28, 'ஒ': 29, 'உ': 30, 'ல': 31, 'c': 32, 'j': 33, 'ை': 34, 'வ': 35, 'b': 36, 'k': 37, 'ர': 38, 'ங': 39, 'ற': 40, 'r': 41, 'a': 42, 'ஃ': 43, 'ெ': 44, 'ஊ': 45, 'ஷ': 46, 'i': 47, 'ோ': 48, 'g': 49, 'ே': 50, 'ந': 51, 'ஹ': 52, 'p': 53, 'x': 54, 'ஏ': 55, 'ஞ': 56, 'ழ': 57, 'ௌ': 58, 'w': 59, 'ொ': 60, 'ய': 61, 'ம': 62, 'ட': 63, 'n': 64, 'ஆ': 65, 'ண': 66, 'v': 67, 'த': 68, 'ி': 69, 's': 70, 'ஜ': 71, 'ா': 72, '<EOS>': 73}\n",
            "[0, 1, 2, 3, 4, 5, 6, 7, 8, 9, 10, 11, 12, 13, 14, 15, 16, 17, 18, 19, 20, 21, 22, 23, 24, 25, 26, 27, 28, 29, 30, 31, 32, 33, 34, 35, 36, 37, 38, 39, 40, 41, 42, 43, 44, 45, 46, 47, 48, 49, 50, 51, 52, 53, 54, 55, 56, 57, 58, 59, 60, 61, 62, 63, 64, 65, 66, 67, 68, 69, 70, 71, 72, 73]\n"
          ]
        }
      ]
    },
    {
      "cell_type": "code",
      "source": [
        "tensor_list = torch.tensor(num_list)"
      ],
      "metadata": {
        "id": "h9xELrKXtQXh"
      },
      "execution_count": 10,
      "outputs": []
    },
    {
      "cell_type": "code",
      "source": [
        "def to_one_hot(numbers, num_classes):\n",
        "  one_hot = torch.zeros((len(numbers), num_classes))\n",
        "  one_hot[torch.arange(len(numbers)), numbers] = 1\n",
        "  return one_hot"
      ],
      "metadata": {
        "id": "8jAqNQRgvAGp"
      },
      "execution_count": 14,
      "outputs": []
    },
    {
      "cell_type": "code",
      "source": [
        "one_hot_vectors = to_one_hot(tensor_list, len(tensor_list))\n",
        "print(one_hot_vectors)"
      ],
      "metadata": {
        "colab": {
          "base_uri": "https://localhost:8080/"
        },
        "id": "5-dZbC3YGxhU",
        "outputId": "7aecf6f2-ed33-465b-dc22-ac3799618f69"
      },
      "execution_count": 15,
      "outputs": [
        {
          "output_type": "stream",
          "name": "stdout",
          "text": [
            "tensor([[1., 0., 0.,  ..., 0., 0., 0.],\n",
            "        [0., 1., 0.,  ..., 0., 0., 0.],\n",
            "        [0., 0., 1.,  ..., 0., 0., 0.],\n",
            "        ...,\n",
            "        [0., 0., 0.,  ..., 1., 0., 0.],\n",
            "        [0., 0., 0.,  ..., 0., 1., 0.],\n",
            "        [0., 0., 0.,  ..., 0., 0., 1.]])\n"
          ]
        }
      ]
    },
    {
      "cell_type": "code",
      "source": [
        "one_hot_vectors.shape"
      ],
      "metadata": {
        "colab": {
          "base_uri": "https://localhost:8080/"
        },
        "id": "RgPeHmSAHaAE",
        "outputId": "48ef3486-a6d4-4b1d-92c0-89727faa3e4a"
      },
      "execution_count": 17,
      "outputs": [
        {
          "output_type": "execute_result",
          "data": {
            "text/plain": [
              "torch.Size([74, 74])"
            ]
          },
          "metadata": {},
          "execution_count": 17
        }
      ]
    }
  ]
}